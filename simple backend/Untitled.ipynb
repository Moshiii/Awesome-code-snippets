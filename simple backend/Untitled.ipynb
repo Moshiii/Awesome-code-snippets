{
 "cells": [
  {
   "cell_type": "code",
   "execution_count": 33,
   "metadata": {},
   "outputs": [],
   "source": [
    "with open('masterspellbook.md', 'r') as file:\n",
    "    data = file.read()"
   ]
  },
  {
   "cell_type": "code",
   "execution_count": 34,
   "metadata": {},
   "outputs": [
    {
     "name": "stdout",
     "output_type": "stream",
     "text": [
      "[[\"test1\", \"\\ntest1 source code\"], [\"test 2\", \"\\ntest1 source code\"], [\"python read a file as a string no dash n\", \"with open('data.txt', 'r') as file:\\n    data = file.read().replace('\\\\n', '')\"], [\"python return the index of a matching element\", \"\\n#Example List\\nlist = ['apples', 'bannas', 'grapes']\\n#Use Known Entites In The List To Find The Index Of An Unknown Object\\nIndex_Number_For_Bannas = list.index('apples')\\n#Print The Object\\nprint(list[Index_Number_For_Bannas])\\n\\n\"], [\"python join list to string\", \"    numList = ['1', '2', '3', '4']\\n    print(''.join(numList))\\n\"]]\n"
     ]
    }
   ],
   "source": [
    "import re\n",
    "import json\n",
    "\n",
    "spell_list = data.split(\"#### \")\n",
    "\n",
    "data_list=[]\n",
    "for l in spell_list:\n",
    "    if len(l)==0:\n",
    "        continue\n",
    "    ls = l.split('\\n')\n",
    "    title = ls[0]\n",
    "    index_start = ls.index('```python')\n",
    "    index_end = ls.index('```')\n",
    "    content = '\\n'.join(ls[index_start+1:index_end])\n",
    "    data_list.append([title,content])\n",
    "y = json.dumps(data_list)\n",
    "\n",
    "# the result is a JSON string:\n",
    "print(y)"
   ]
  },
  {
   "cell_type": "code",
   "execution_count": null,
   "metadata": {},
   "outputs": [],
   "source": []
  }
 ],
 "metadata": {
  "kernelspec": {
   "display_name": "Python 3",
   "language": "python",
   "name": "python3"
  },
  "language_info": {
   "codemirror_mode": {
    "name": "ipython",
    "version": 3
   },
   "file_extension": ".py",
   "mimetype": "text/x-python",
   "name": "python",
   "nbconvert_exporter": "python",
   "pygments_lexer": "ipython3",
   "version": "3.7.6"
  }
 },
 "nbformat": 4,
 "nbformat_minor": 4
}
